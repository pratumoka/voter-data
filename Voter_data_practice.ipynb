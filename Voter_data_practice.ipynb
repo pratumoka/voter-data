{
  "nbformat": 4,
  "nbformat_minor": 0,
  "metadata": {
    "colab": {
      "provenance": []
    },
    "kernelspec": {
      "name": "python3",
      "display_name": "Python 3"
    },
    "language_info": {
      "name": "python"
    }
  },
  "cells": [
    {
      "cell_type": "code",
      "source": [
        "##Importing the necessary libraries"
      ],
      "metadata": {
        "id": "1P1XaQL6o-Er"
      },
      "execution_count": 54,
      "outputs": []
    },
    {
      "cell_type": "code",
      "execution_count": 34,
      "metadata": {
        "id": "FwIh8ZMHzp0g"
      },
      "outputs": [],
      "source": [
        "import pandas as pd\n",
        "from scipy import stats\n",
        "import numpy as np\n",
        "import matplotlib.pyplot as plt\n",
        "import seaborn as sns"
      ]
    },
    {
      "cell_type": "code",
      "source": [
        "voter = pd.read_excel('Voter_data.xlsx') #Loading the dataset"
      ],
      "metadata": {
        "id": "PaqgDvDp0WAx"
      },
      "execution_count": 35,
      "outputs": []
    },
    {
      "cell_type": "code",
      "source": [
        "voter.head(6) #Taking a glance of the data"
      ],
      "metadata": {
        "colab": {
          "base_uri": "https://localhost:8080/",
          "height": 301
        },
        "id": "RpsPfrN90dSl",
        "outputId": "1c55bb5f-7319-485f-a803-b4e3e1ec5daa"
      },
      "execution_count": 37,
      "outputs": [
        {
          "output_type": "execute_result",
          "data": {
            "text/plain": [
              "   town_id  turnout_total  turnout_male  turnout_female  registered_total  \\\n",
              "0      171            413           208             205              1389   \n",
              "1      171            618           337             281              1544   \n",
              "2      171            377           215             162              1280   \n",
              "3      171            367           200             167              1551   \n",
              "4      171            265           128             137              1128   \n",
              "5      171            325           185             140               998   \n",
              "\n",
              "   registered_male  registered_female  treatment  treatment_phase  \n",
              "0              769                620          1                1  \n",
              "1              859                685          0                1  \n",
              "2              695                585          0                1  \n",
              "3              850                701          0                1  \n",
              "4              609                519          1                1  \n",
              "5              556                442          0                1  "
            ],
            "text/html": [
              "\n",
              "  <div id=\"df-9c59c71c-bcd8-43e4-8425-59ed2f40d2f8\">\n",
              "    <div class=\"colab-df-container\">\n",
              "      <div>\n",
              "<style scoped>\n",
              "    .dataframe tbody tr th:only-of-type {\n",
              "        vertical-align: middle;\n",
              "    }\n",
              "\n",
              "    .dataframe tbody tr th {\n",
              "        vertical-align: top;\n",
              "    }\n",
              "\n",
              "    .dataframe thead th {\n",
              "        text-align: right;\n",
              "    }\n",
              "</style>\n",
              "<table border=\"1\" class=\"dataframe\">\n",
              "  <thead>\n",
              "    <tr style=\"text-align: right;\">\n",
              "      <th></th>\n",
              "      <th>town_id</th>\n",
              "      <th>turnout_total</th>\n",
              "      <th>turnout_male</th>\n",
              "      <th>turnout_female</th>\n",
              "      <th>registered_total</th>\n",
              "      <th>registered_male</th>\n",
              "      <th>registered_female</th>\n",
              "      <th>treatment</th>\n",
              "      <th>treatment_phase</th>\n",
              "    </tr>\n",
              "  </thead>\n",
              "  <tbody>\n",
              "    <tr>\n",
              "      <th>0</th>\n",
              "      <td>171</td>\n",
              "      <td>413</td>\n",
              "      <td>208</td>\n",
              "      <td>205</td>\n",
              "      <td>1389</td>\n",
              "      <td>769</td>\n",
              "      <td>620</td>\n",
              "      <td>1</td>\n",
              "      <td>1</td>\n",
              "    </tr>\n",
              "    <tr>\n",
              "      <th>1</th>\n",
              "      <td>171</td>\n",
              "      <td>618</td>\n",
              "      <td>337</td>\n",
              "      <td>281</td>\n",
              "      <td>1544</td>\n",
              "      <td>859</td>\n",
              "      <td>685</td>\n",
              "      <td>0</td>\n",
              "      <td>1</td>\n",
              "    </tr>\n",
              "    <tr>\n",
              "      <th>2</th>\n",
              "      <td>171</td>\n",
              "      <td>377</td>\n",
              "      <td>215</td>\n",
              "      <td>162</td>\n",
              "      <td>1280</td>\n",
              "      <td>695</td>\n",
              "      <td>585</td>\n",
              "      <td>0</td>\n",
              "      <td>1</td>\n",
              "    </tr>\n",
              "    <tr>\n",
              "      <th>3</th>\n",
              "      <td>171</td>\n",
              "      <td>367</td>\n",
              "      <td>200</td>\n",
              "      <td>167</td>\n",
              "      <td>1551</td>\n",
              "      <td>850</td>\n",
              "      <td>701</td>\n",
              "      <td>0</td>\n",
              "      <td>1</td>\n",
              "    </tr>\n",
              "    <tr>\n",
              "      <th>4</th>\n",
              "      <td>171</td>\n",
              "      <td>265</td>\n",
              "      <td>128</td>\n",
              "      <td>137</td>\n",
              "      <td>1128</td>\n",
              "      <td>609</td>\n",
              "      <td>519</td>\n",
              "      <td>1</td>\n",
              "      <td>1</td>\n",
              "    </tr>\n",
              "    <tr>\n",
              "      <th>5</th>\n",
              "      <td>171</td>\n",
              "      <td>325</td>\n",
              "      <td>185</td>\n",
              "      <td>140</td>\n",
              "      <td>998</td>\n",
              "      <td>556</td>\n",
              "      <td>442</td>\n",
              "      <td>0</td>\n",
              "      <td>1</td>\n",
              "    </tr>\n",
              "  </tbody>\n",
              "</table>\n",
              "</div>\n",
              "      <button class=\"colab-df-convert\" onclick=\"convertToInteractive('df-9c59c71c-bcd8-43e4-8425-59ed2f40d2f8')\"\n",
              "              title=\"Convert this dataframe to an interactive table.\"\n",
              "              style=\"display:none;\">\n",
              "        \n",
              "  <svg xmlns=\"http://www.w3.org/2000/svg\" height=\"24px\"viewBox=\"0 0 24 24\"\n",
              "       width=\"24px\">\n",
              "    <path d=\"M0 0h24v24H0V0z\" fill=\"none\"/>\n",
              "    <path d=\"M18.56 5.44l.94 2.06.94-2.06 2.06-.94-2.06-.94-.94-2.06-.94 2.06-2.06.94zm-11 1L8.5 8.5l.94-2.06 2.06-.94-2.06-.94L8.5 2.5l-.94 2.06-2.06.94zm10 10l.94 2.06.94-2.06 2.06-.94-2.06-.94-.94-2.06-.94 2.06-2.06.94z\"/><path d=\"M17.41 7.96l-1.37-1.37c-.4-.4-.92-.59-1.43-.59-.52 0-1.04.2-1.43.59L10.3 9.45l-7.72 7.72c-.78.78-.78 2.05 0 2.83L4 21.41c.39.39.9.59 1.41.59.51 0 1.02-.2 1.41-.59l7.78-7.78 2.81-2.81c.8-.78.8-2.07 0-2.86zM5.41 20L4 18.59l7.72-7.72 1.47 1.35L5.41 20z\"/>\n",
              "  </svg>\n",
              "      </button>\n",
              "      \n",
              "  <style>\n",
              "    .colab-df-container {\n",
              "      display:flex;\n",
              "      flex-wrap:wrap;\n",
              "      gap: 12px;\n",
              "    }\n",
              "\n",
              "    .colab-df-convert {\n",
              "      background-color: #E8F0FE;\n",
              "      border: none;\n",
              "      border-radius: 50%;\n",
              "      cursor: pointer;\n",
              "      display: none;\n",
              "      fill: #1967D2;\n",
              "      height: 32px;\n",
              "      padding: 0 0 0 0;\n",
              "      width: 32px;\n",
              "    }\n",
              "\n",
              "    .colab-df-convert:hover {\n",
              "      background-color: #E2EBFA;\n",
              "      box-shadow: 0px 1px 2px rgba(60, 64, 67, 0.3), 0px 1px 3px 1px rgba(60, 64, 67, 0.15);\n",
              "      fill: #174EA6;\n",
              "    }\n",
              "\n",
              "    [theme=dark] .colab-df-convert {\n",
              "      background-color: #3B4455;\n",
              "      fill: #D2E3FC;\n",
              "    }\n",
              "\n",
              "    [theme=dark] .colab-df-convert:hover {\n",
              "      background-color: #434B5C;\n",
              "      box-shadow: 0px 1px 3px 1px rgba(0, 0, 0, 0.15);\n",
              "      filter: drop-shadow(0px 1px 2px rgba(0, 0, 0, 0.3));\n",
              "      fill: #FFFFFF;\n",
              "    }\n",
              "  </style>\n",
              "\n",
              "      <script>\n",
              "        const buttonEl =\n",
              "          document.querySelector('#df-9c59c71c-bcd8-43e4-8425-59ed2f40d2f8 button.colab-df-convert');\n",
              "        buttonEl.style.display =\n",
              "          google.colab.kernel.accessAllowed ? 'block' : 'none';\n",
              "\n",
              "        async function convertToInteractive(key) {\n",
              "          const element = document.querySelector('#df-9c59c71c-bcd8-43e4-8425-59ed2f40d2f8');\n",
              "          const dataTable =\n",
              "            await google.colab.kernel.invokeFunction('convertToInteractive',\n",
              "                                                     [key], {});\n",
              "          if (!dataTable) return;\n",
              "\n",
              "          const docLinkHtml = 'Like what you see? Visit the ' +\n",
              "            '<a target=\"_blank\" href=https://colab.research.google.com/notebooks/data_table.ipynb>data table notebook</a>'\n",
              "            + ' to learn more about interactive tables.';\n",
              "          element.innerHTML = '';\n",
              "          dataTable['output_type'] = 'display_data';\n",
              "          await google.colab.output.renderOutput(dataTable, element);\n",
              "          const docLink = document.createElement('div');\n",
              "          docLink.innerHTML = docLinkHtml;\n",
              "          element.appendChild(docLink);\n",
              "        }\n",
              "      </script>\n",
              "    </div>\n",
              "  </div>\n",
              "  "
            ]
          },
          "metadata": {},
          "execution_count": 37
        }
      ]
    },
    {
      "cell_type": "code",
      "source": [
        "voter.info() #Checking for datatypes and null values"
      ],
      "metadata": {
        "colab": {
          "base_uri": "https://localhost:8080/"
        },
        "id": "2B7dsneK0dVJ",
        "outputId": "f933164e-b338-481f-fdab-839e36a764ef"
      },
      "execution_count": 38,
      "outputs": [
        {
          "output_type": "stream",
          "name": "stdout",
          "text": [
            "<class 'pandas.core.frame.DataFrame'>\n",
            "RangeIndex: 6970 entries, 0 to 6969\n",
            "Data columns (total 9 columns):\n",
            " #   Column             Non-Null Count  Dtype\n",
            "---  ------             --------------  -----\n",
            " 0   town_id            6970 non-null   int64\n",
            " 1   turnout_total      6970 non-null   int64\n",
            " 2   turnout_male       6970 non-null   int64\n",
            " 3   turnout_female     6970 non-null   int64\n",
            " 4   registered_total   6970 non-null   int64\n",
            " 5   registered_male    6970 non-null   int64\n",
            " 6   registered_female  6970 non-null   int64\n",
            " 7   treatment          6970 non-null   int64\n",
            " 8   treatment_phase    6970 non-null   int64\n",
            "dtypes: int64(9)\n",
            "memory usage: 490.2 KB\n"
          ]
        }
      ]
    },
    {
      "cell_type": "code",
      "source": [
        "voter.describe() #Finding out basic statistics"
      ],
      "metadata": {
        "colab": {
          "base_uri": "https://localhost:8080/",
          "height": 364
        },
        "id": "kKtwH_TP0dZw",
        "outputId": "48984807-d22b-46fb-9f40-2ea15c3aea27"
      },
      "execution_count": 39,
      "outputs": [
        {
          "output_type": "execute_result",
          "data": {
            "text/plain": [
              "           town_id  turnout_total  turnout_male  turnout_female  \\\n",
              "count  6970.000000    6970.000000   6970.000000     6970.000000   \n",
              "mean    200.980201     464.931707    253.307891      211.623816   \n",
              "std      21.360832     153.747082     85.781391       70.677926   \n",
              "min     171.000000       0.000000      0.000000        0.000000   \n",
              "25%     190.000000     353.000000    190.000000      161.000000   \n",
              "50%     198.000000     456.000000    247.000000      207.000000   \n",
              "75%     212.000000     564.000000    308.000000      257.000000   \n",
              "max     239.000000    1045.000000    597.000000      483.000000   \n",
              "\n",
              "       registered_total  registered_male  registered_female    treatment  \\\n",
              "count       6970.000000      6970.000000        6970.000000  6970.000000   \n",
              "mean         973.809469       531.930416         438.726112     0.497274   \n",
              "std          469.611039       266.403643         222.125543     0.500028   \n",
              "min         -999.000000      -999.000000        -999.000000     0.000000   \n",
              "25%          592.000000       321.000000         268.000000     0.000000   \n",
              "50%          870.500000       479.000000         394.000000     0.000000   \n",
              "75%         1331.750000       730.000000         600.750000     1.000000   \n",
              "max         1999.000000      1194.000000         991.000000     1.000000   \n",
              "\n",
              "       treatment_phase  \n",
              "count      6970.000000  \n",
              "mean          1.483357  \n",
              "std           0.499759  \n",
              "min           1.000000  \n",
              "25%           1.000000  \n",
              "50%           1.000000  \n",
              "75%           2.000000  \n",
              "max           2.000000  "
            ],
            "text/html": [
              "\n",
              "  <div id=\"df-23433d4c-e349-4497-b64a-dd3d15393167\">\n",
              "    <div class=\"colab-df-container\">\n",
              "      <div>\n",
              "<style scoped>\n",
              "    .dataframe tbody tr th:only-of-type {\n",
              "        vertical-align: middle;\n",
              "    }\n",
              "\n",
              "    .dataframe tbody tr th {\n",
              "        vertical-align: top;\n",
              "    }\n",
              "\n",
              "    .dataframe thead th {\n",
              "        text-align: right;\n",
              "    }\n",
              "</style>\n",
              "<table border=\"1\" class=\"dataframe\">\n",
              "  <thead>\n",
              "    <tr style=\"text-align: right;\">\n",
              "      <th></th>\n",
              "      <th>town_id</th>\n",
              "      <th>turnout_total</th>\n",
              "      <th>turnout_male</th>\n",
              "      <th>turnout_female</th>\n",
              "      <th>registered_total</th>\n",
              "      <th>registered_male</th>\n",
              "      <th>registered_female</th>\n",
              "      <th>treatment</th>\n",
              "      <th>treatment_phase</th>\n",
              "    </tr>\n",
              "  </thead>\n",
              "  <tbody>\n",
              "    <tr>\n",
              "      <th>count</th>\n",
              "      <td>6970.000000</td>\n",
              "      <td>6970.000000</td>\n",
              "      <td>6970.000000</td>\n",
              "      <td>6970.000000</td>\n",
              "      <td>6970.000000</td>\n",
              "      <td>6970.000000</td>\n",
              "      <td>6970.000000</td>\n",
              "      <td>6970.000000</td>\n",
              "      <td>6970.000000</td>\n",
              "    </tr>\n",
              "    <tr>\n",
              "      <th>mean</th>\n",
              "      <td>200.980201</td>\n",
              "      <td>464.931707</td>\n",
              "      <td>253.307891</td>\n",
              "      <td>211.623816</td>\n",
              "      <td>973.809469</td>\n",
              "      <td>531.930416</td>\n",
              "      <td>438.726112</td>\n",
              "      <td>0.497274</td>\n",
              "      <td>1.483357</td>\n",
              "    </tr>\n",
              "    <tr>\n",
              "      <th>std</th>\n",
              "      <td>21.360832</td>\n",
              "      <td>153.747082</td>\n",
              "      <td>85.781391</td>\n",
              "      <td>70.677926</td>\n",
              "      <td>469.611039</td>\n",
              "      <td>266.403643</td>\n",
              "      <td>222.125543</td>\n",
              "      <td>0.500028</td>\n",
              "      <td>0.499759</td>\n",
              "    </tr>\n",
              "    <tr>\n",
              "      <th>min</th>\n",
              "      <td>171.000000</td>\n",
              "      <td>0.000000</td>\n",
              "      <td>0.000000</td>\n",
              "      <td>0.000000</td>\n",
              "      <td>-999.000000</td>\n",
              "      <td>-999.000000</td>\n",
              "      <td>-999.000000</td>\n",
              "      <td>0.000000</td>\n",
              "      <td>1.000000</td>\n",
              "    </tr>\n",
              "    <tr>\n",
              "      <th>25%</th>\n",
              "      <td>190.000000</td>\n",
              "      <td>353.000000</td>\n",
              "      <td>190.000000</td>\n",
              "      <td>161.000000</td>\n",
              "      <td>592.000000</td>\n",
              "      <td>321.000000</td>\n",
              "      <td>268.000000</td>\n",
              "      <td>0.000000</td>\n",
              "      <td>1.000000</td>\n",
              "    </tr>\n",
              "    <tr>\n",
              "      <th>50%</th>\n",
              "      <td>198.000000</td>\n",
              "      <td>456.000000</td>\n",
              "      <td>247.000000</td>\n",
              "      <td>207.000000</td>\n",
              "      <td>870.500000</td>\n",
              "      <td>479.000000</td>\n",
              "      <td>394.000000</td>\n",
              "      <td>0.000000</td>\n",
              "      <td>1.000000</td>\n",
              "    </tr>\n",
              "    <tr>\n",
              "      <th>75%</th>\n",
              "      <td>212.000000</td>\n",
              "      <td>564.000000</td>\n",
              "      <td>308.000000</td>\n",
              "      <td>257.000000</td>\n",
              "      <td>1331.750000</td>\n",
              "      <td>730.000000</td>\n",
              "      <td>600.750000</td>\n",
              "      <td>1.000000</td>\n",
              "      <td>2.000000</td>\n",
              "    </tr>\n",
              "    <tr>\n",
              "      <th>max</th>\n",
              "      <td>239.000000</td>\n",
              "      <td>1045.000000</td>\n",
              "      <td>597.000000</td>\n",
              "      <td>483.000000</td>\n",
              "      <td>1999.000000</td>\n",
              "      <td>1194.000000</td>\n",
              "      <td>991.000000</td>\n",
              "      <td>1.000000</td>\n",
              "      <td>2.000000</td>\n",
              "    </tr>\n",
              "  </tbody>\n",
              "</table>\n",
              "</div>\n",
              "      <button class=\"colab-df-convert\" onclick=\"convertToInteractive('df-23433d4c-e349-4497-b64a-dd3d15393167')\"\n",
              "              title=\"Convert this dataframe to an interactive table.\"\n",
              "              style=\"display:none;\">\n",
              "        \n",
              "  <svg xmlns=\"http://www.w3.org/2000/svg\" height=\"24px\"viewBox=\"0 0 24 24\"\n",
              "       width=\"24px\">\n",
              "    <path d=\"M0 0h24v24H0V0z\" fill=\"none\"/>\n",
              "    <path d=\"M18.56 5.44l.94 2.06.94-2.06 2.06-.94-2.06-.94-.94-2.06-.94 2.06-2.06.94zm-11 1L8.5 8.5l.94-2.06 2.06-.94-2.06-.94L8.5 2.5l-.94 2.06-2.06.94zm10 10l.94 2.06.94-2.06 2.06-.94-2.06-.94-.94-2.06-.94 2.06-2.06.94z\"/><path d=\"M17.41 7.96l-1.37-1.37c-.4-.4-.92-.59-1.43-.59-.52 0-1.04.2-1.43.59L10.3 9.45l-7.72 7.72c-.78.78-.78 2.05 0 2.83L4 21.41c.39.39.9.59 1.41.59.51 0 1.02-.2 1.41-.59l7.78-7.78 2.81-2.81c.8-.78.8-2.07 0-2.86zM5.41 20L4 18.59l7.72-7.72 1.47 1.35L5.41 20z\"/>\n",
              "  </svg>\n",
              "      </button>\n",
              "      \n",
              "  <style>\n",
              "    .colab-df-container {\n",
              "      display:flex;\n",
              "      flex-wrap:wrap;\n",
              "      gap: 12px;\n",
              "    }\n",
              "\n",
              "    .colab-df-convert {\n",
              "      background-color: #E8F0FE;\n",
              "      border: none;\n",
              "      border-radius: 50%;\n",
              "      cursor: pointer;\n",
              "      display: none;\n",
              "      fill: #1967D2;\n",
              "      height: 32px;\n",
              "      padding: 0 0 0 0;\n",
              "      width: 32px;\n",
              "    }\n",
              "\n",
              "    .colab-df-convert:hover {\n",
              "      background-color: #E2EBFA;\n",
              "      box-shadow: 0px 1px 2px rgba(60, 64, 67, 0.3), 0px 1px 3px 1px rgba(60, 64, 67, 0.15);\n",
              "      fill: #174EA6;\n",
              "    }\n",
              "\n",
              "    [theme=dark] .colab-df-convert {\n",
              "      background-color: #3B4455;\n",
              "      fill: #D2E3FC;\n",
              "    }\n",
              "\n",
              "    [theme=dark] .colab-df-convert:hover {\n",
              "      background-color: #434B5C;\n",
              "      box-shadow: 0px 1px 3px 1px rgba(0, 0, 0, 0.15);\n",
              "      filter: drop-shadow(0px 1px 2px rgba(0, 0, 0, 0.3));\n",
              "      fill: #FFFFFF;\n",
              "    }\n",
              "  </style>\n",
              "\n",
              "      <script>\n",
              "        const buttonEl =\n",
              "          document.querySelector('#df-23433d4c-e349-4497-b64a-dd3d15393167 button.colab-df-convert');\n",
              "        buttonEl.style.display =\n",
              "          google.colab.kernel.accessAllowed ? 'block' : 'none';\n",
              "\n",
              "        async function convertToInteractive(key) {\n",
              "          const element = document.querySelector('#df-23433d4c-e349-4497-b64a-dd3d15393167');\n",
              "          const dataTable =\n",
              "            await google.colab.kernel.invokeFunction('convertToInteractive',\n",
              "                                                     [key], {});\n",
              "          if (!dataTable) return;\n",
              "\n",
              "          const docLinkHtml = 'Like what you see? Visit the ' +\n",
              "            '<a target=\"_blank\" href=https://colab.research.google.com/notebooks/data_table.ipynb>data table notebook</a>'\n",
              "            + ' to learn more about interactive tables.';\n",
              "          element.innerHTML = '';\n",
              "          dataTable['output_type'] = 'display_data';\n",
              "          await google.colab.output.renderOutput(dataTable, element);\n",
              "          const docLink = document.createElement('div');\n",
              "          docLink.innerHTML = docLinkHtml;\n",
              "          element.appendChild(docLink);\n",
              "        }\n",
              "      </script>\n",
              "    </div>\n",
              "  </div>\n",
              "  "
            ]
          },
          "metadata": {},
          "execution_count": 39
        }
      ]
    },
    {
      "cell_type": "code",
      "source": [
        "### Coloumns registered_total, registered_male and registered_female have incorrect (negative) values"
      ],
      "metadata": {
        "id": "2zcHAI8C0WDK"
      },
      "execution_count": 6,
      "outputs": []
    },
    {
      "cell_type": "code",
      "source": [
        "sns.histplot(voter, x='registered_total')"
      ],
      "metadata": {
        "colab": {
          "base_uri": "https://localhost:8080/",
          "height": 467
        },
        "id": "gH0Y_yCqqIfj",
        "outputId": "105dc568-dc85-406b-de31-f39cf9bba636"
      },
      "execution_count": 57,
      "outputs": [
        {
          "output_type": "execute_result",
          "data": {
            "text/plain": [
              "<Axes: xlabel='registered_total', ylabel='Count'>"
            ]
          },
          "metadata": {},
          "execution_count": 57
        },
        {
          "output_type": "display_data",
          "data": {
            "text/plain": [
              "<Figure size 640x480 with 1 Axes>"
            ],
            "image/png": "[encoded data removed]"
          },
          "metadata": {}
        }
      ]
    },
    {
      "cell_type": "code",
      "source": [
        "sns.histplot(voter, x='registered_male', color = 'red')"
      ],
      "metadata": {
        "colab": {
          "base_uri": "https://localhost:8080/",
          "height": 467
        },
        "id": "JjUTvtYhqIwl",
        "outputId": "7aa930cb-52db-469d-99e2-6ff6a267eda4"
      },
      "execution_count": 59,
      "outputs": [
        {
          "output_type": "execute_result",
          "data": {
            "text/plain": [
              "<Axes: xlabel='registered_male', ylabel='Count'>"
            ]
          },
          "metadata": {},
          "execution_count": 59
        },
        {
          "output_type": "display_data",
          "data": {
            "text/plain": [
              "<Figure size 640x480 with 1 Axes>"
            ],
            "image/png": "[encoded data removed]"
          },
          "metadata": {}
        }
      ]
    },
    {
      "cell_type": "code",
      "source": [
        "sns.histplot(voter, x='registered_female', color = 'g')"
      ],
      "metadata": {
        "colab": {
          "base_uri": "https://localhost:8080/",
          "height": 467
        },
        "id": "_bUVzHEyuXzE",
        "outputId": "a16bc2ee-5539-4350-dd7a-f0c6a0f183a4"
      },
      "execution_count": 60,
      "outputs": [
        {
          "output_type": "execute_result",
          "data": {
            "text/plain": [
              "<Axes: xlabel='registered_female', ylabel='Count'>"
            ]
          },
          "metadata": {},
          "execution_count": 60
        },
        {
          "output_type": "display_data",
          "data": {
            "text/plain": [
              "<Figure size 640x480 with 1 Axes>"
            ],
            "image/png": "[encoded data removed]"
          },
          "metadata": {}
        }
      ]
    },
    {
      "cell_type": "code",
      "source": [
        "voter[voter['registered_total'] < 0]['registered_total'].value_counts() #Checking for the count of incorrect values"
      ],
      "metadata": {
        "colab": {
          "base_uri": "https://localhost:8080/"
        },
        "id": "o7meL7UP0WK5",
        "outputId": "1aed5f0f-5834-489a-fb8b-884f7cff258b"
      },
      "execution_count": 61,
      "outputs": [
        {
          "output_type": "execute_result",
          "data": {
            "text/plain": [
              "-999    20\n",
              "-998     2\n",
              "Name: registered_total, dtype: int64"
            ]
          },
          "metadata": {},
          "execution_count": 61
        }
      ]
    },
    {
      "cell_type": "code",
      "source": [
        "voter[voter['registered_male'] < 0]['registered_male'].value_counts() #Checking for the count of incorrect values"
      ],
      "metadata": {
        "colab": {
          "base_uri": "https://localhost:8080/"
        },
        "id": "LaSDPMgO1YTk",
        "outputId": "080159b7-e635-4d4b-9c21-1b6724d4eaf9"
      },
      "execution_count": 62,
      "outputs": [
        {
          "output_type": "execute_result",
          "data": {
            "text/plain": [
              "-999    20\n",
              "-998     2\n",
              "Name: registered_male, dtype: int64"
            ]
          },
          "metadata": {},
          "execution_count": 62
        }
      ]
    },
    {
      "cell_type": "code",
      "source": [
        "voter[voter['registered_female'] < 0]['registered_female'].value_counts()"
      ],
      "metadata": {
        "colab": {
          "base_uri": "https://localhost:8080/"
        },
        "id": "5Dhn3-Mg1YWA",
        "outputId": "6c92fb58-8b0c-4e3e-e495-0a94f899ca52"
      },
      "execution_count": 63,
      "outputs": [
        {
          "output_type": "execute_result",
          "data": {
            "text/plain": [
              "-999    20\n",
              "-998     2\n",
              "Name: registered_female, dtype: int64"
            ]
          },
          "metadata": {},
          "execution_count": 63
        }
      ]
    },
    {
      "cell_type": "code",
      "source": [
        "### Coloumns registered_total, registered_male and registered_female have 22 incorrect (negative) values\n",
        "## Since the data is for voters, 0 or a positive number is a valid value, whereas a negative count is an invalid value"
      ],
      "metadata": {
        "id": "apwlXA0D1YcZ"
      },
      "execution_count": 10,
      "outputs": []
    },
    {
      "cell_type": "code",
      "source": [
        "for x in voter.index: #Replacing the wrong values with None\n",
        "  if voter.loc[x, \"registered_total\"] < 0:\n",
        "    voter.loc[x, \"registered_total\"] = np.nan\n",
        "\n",
        "for x in voter.index:\n",
        "  if voter.loc[x, \"registered_male\"] < 0:\n",
        "    voter.loc[x, \"registered_male\"] = np.nan\n",
        "\n",
        "for x in voter.index:\n",
        "  if voter.loc[x, \"registered_female\"] < 0:\n",
        "    voter.loc[x, \"registered_female\"] = np.nan"
      ],
      "metadata": {
        "id": "J9j2KMbE5u9p"
      },
      "execution_count": 65,
      "outputs": []
    },
    {
      "cell_type": "code",
      "source": [
        "m_rt = voter[\"registered_total\"].median()\n",
        "m_rm = voter[\"registered_male\"].median()\n",
        "m_rf = voter[\"registered_female\"].median()\n",
        "\n",
        "#As all the histograms are right-skewed, it is best to replace the wrong values with median of the coloumns"
      ],
      "metadata": {
        "id": "2YPdYAZm6W58"
      },
      "execution_count": 74,
      "outputs": []
    },
    {
      "cell_type": "code",
      "source": [
        "voter[\"registered_total\"].fillna(m_rt, inplace = True) #Wrong values (i.e null values) replaced with median of every column\n",
        "voter[\"registered_male\"].fillna(m_rm, inplace = True)\n",
        "voter[\"registered_female\"].fillna(m_rf, inplace = True)"
      ],
      "metadata": {
        "id": "DnBLnAJx6W8I"
      },
      "execution_count": 75,
      "outputs": []
    },
    {
      "cell_type": "code",
      "source": [
        "voter.info() #Checking once again now that the wrong values are replaced"
      ],
      "metadata": {
        "colab": {
          "base_uri": "https://localhost:8080/"
        },
        "id": "7T1g_uxU6W-d",
        "outputId": "2a5f77d6-8bb5-4bba-adc3-d0cdd55a8296"
      },
      "execution_count": 76,
      "outputs": [
        {
          "output_type": "stream",
          "name": "stdout",
          "text": [
            "<class 'pandas.core.frame.DataFrame'>\n",
            "RangeIndex: 6970 entries, 0 to 6969\n",
            "Data columns (total 10 columns):\n",
            " #   Column             Non-Null Count  Dtype  \n",
            "---  ------             --------------  -----  \n",
            " 0   town_id            6970 non-null   int64  \n",
            " 1   turnout_total      6970 non-null   int64  \n",
            " 2   turnout_male       6970 non-null   int64  \n",
            " 3   turnout_female     6970 non-null   int64  \n",
            " 4   registered_total   6970 non-null   float64\n",
            " 5   registered_male    6970 non-null   float64\n",
            " 6   registered_female  6970 non-null   float64\n",
            " 7   treatment          6970 non-null   int64  \n",
            " 8   treatment_phase    6970 non-null   int64  \n",
            " 9   turnout_rate       6970 non-null   float64\n",
            "dtypes: float64(4), int64(6)\n",
            "memory usage: 544.7 KB\n"
          ]
        }
      ]
    },
    {
      "cell_type": "code",
      "source": [
        "voter[\"turnout_rate\"] = voter['turnout_total']/voter['registered_total'] #Creating a new coloumn in the dataframe for turnout rate\n",
        "voter.sample()"
      ],
      "metadata": {
        "colab": {
          "base_uri": "https://localhost:8080/",
          "height": 144
        },
        "id": "2RhKcsk86XCo",
        "outputId": "6cc2bcf1-f9de-4dcc-872a-19b244c6abd5"
      },
      "execution_count": 77,
      "outputs": [
        {
          "output_type": "execute_result",
          "data": {
            "text/plain": [
              "      town_id  turnout_total  turnout_male  turnout_female  registered_total  \\\n",
              "2006      191            569           340             229            1106.0   \n",
              "\n",
              "      registered_male  registered_female  treatment  treatment_phase  \\\n",
              "2006            630.0              476.0          0                2   \n",
              "\n",
              "      turnout_rate  \n",
              "2006      0.514467  "
            ],
            "text/html": [
              "\n",
              "  <div id=\"df-14848799-01a7-42ad-b180-b0950b900005\">\n",
              "    <div class=\"colab-df-container\">\n",
              "      <div>\n",
              "<style scoped>\n",
              "    .dataframe tbody tr th:only-of-type {\n",
              "        vertical-align: middle;\n",
              "    }\n",
              "\n",
              "    .dataframe tbody tr th {\n",
              "        vertical-align: top;\n",
              "    }\n",
              "\n",
              "    .dataframe thead th {\n",
              "        text-align: right;\n",
              "    }\n",
              "</style>\n",
              "<table border=\"1\" class=\"dataframe\">\n",
              "  <thead>\n",
              "    <tr style=\"text-align: right;\">\n",
              "      <th></th>\n",
              "      <th>town_id</th>\n",
              "      <th>turnout_total</th>\n",
              "      <th>turnout_male</th>\n",
              "      <th>turnout_female</th>\n",
              "      <th>registered_total</th>\n",
              "      <th>registered_male</th>\n",
              "      <th>registered_female</th>\n",
              "      <th>treatment</th>\n",
              "      <th>treatment_phase</th>\n",
              "      <th>turnout_rate</th>\n",
              "    </tr>\n",
              "  </thead>\n",
              "  <tbody>\n",
              "    <tr>\n",
              "      <th>2006</th>\n",
              "      <td>191</td>\n",
              "      <td>569</td>\n",
              "      <td>340</td>\n",
              "      <td>229</td>\n",
              "      <td>1106.0</td>\n",
              "      <td>630.0</td>\n",
              "      <td>476.0</td>\n",
              "      <td>0</td>\n",
              "      <td>2</td>\n",
              "      <td>0.514467</td>\n",
              "    </tr>\n",
              "  </tbody>\n",
              "</table>\n",
              "</div>\n",
              "      <button class=\"colab-df-convert\" onclick=\"convertToInteractive('df-14848799-01a7-42ad-b180-b0950b900005')\"\n",
              "              title=\"Convert this dataframe to an interactive table.\"\n",
              "              style=\"display:none;\">\n",
              "        \n",
              "  <svg xmlns=\"http://www.w3.org/2000/svg\" height=\"24px\"viewBox=\"0 0 24 24\"\n",
              "       width=\"24px\">\n",
              "    <path d=\"M0 0h24v24H0V0z\" fill=\"none\"/>\n",
              "    <path d=\"M18.56 5.44l.94 2.06.94-2.06 2.06-.94-2.06-.94-.94-2.06-.94 2.06-2.06.94zm-11 1L8.5 8.5l.94-2.06 2.06-.94-2.06-.94L8.5 2.5l-.94 2.06-2.06.94zm10 10l.94 2.06.94-2.06 2.06-.94-2.06-.94-.94-2.06-.94 2.06-2.06.94z\"/><path d=\"M17.41 7.96l-1.37-1.37c-.4-.4-.92-.59-1.43-.59-.52 0-1.04.2-1.43.59L10.3 9.45l-7.72 7.72c-.78.78-.78 2.05 0 2.83L4 21.41c.39.39.9.59 1.41.59.51 0 1.02-.2 1.41-.59l7.78-7.78 2.81-2.81c.8-.78.8-2.07 0-2.86zM5.41 20L4 18.59l7.72-7.72 1.47 1.35L5.41 20z\"/>\n",
              "  </svg>\n",
              "      </button>\n",
              "      \n",
              "  <style>\n",
              "    .colab-df-container {\n",
              "      display:flex;\n",
              "      flex-wrap:wrap;\n",
              "      gap: 12px;\n",
              "    }\n",
              "\n",
              "    .colab-df-convert {\n",
              "      background-color: #E8F0FE;\n",
              "      border: none;\n",
              "      border-radius: 50%;\n",
              "      cursor: pointer;\n",
              "      display: none;\n",
              "      fill: #1967D2;\n",
              "      height: 32px;\n",
              "      padding: 0 0 0 0;\n",
              "      width: 32px;\n",
              "    }\n",
              "\n",
              "    .colab-df-convert:hover {\n",
              "      background-color: #E2EBFA;\n",
              "      box-shadow: 0px 1px 2px rgba(60, 64, 67, 0.3), 0px 1px 3px 1px rgba(60, 64, 67, 0.15);\n",
              "      fill: #174EA6;\n",
              "    }\n",
              "\n",
              "    [theme=dark] .colab-df-convert {\n",
              "      background-color: #3B4455;\n",
              "      fill: #D2E3FC;\n",
              "    }\n",
              "\n",
              "    [theme=dark] .colab-df-convert:hover {\n",
              "      background-color: #434B5C;\n",
              "      box-shadow: 0px 1px 3px 1px rgba(0, 0, 0, 0.15);\n",
              "      filter: drop-shadow(0px 1px 2px rgba(0, 0, 0, 0.3));\n",
              "      fill: #FFFFFF;\n",
              "    }\n",
              "  </style>\n",
              "\n",
              "      <script>\n",
              "        const buttonEl =\n",
              "          document.querySelector('#df-14848799-01a7-42ad-b180-b0950b900005 button.colab-df-convert');\n",
              "        buttonEl.style.display =\n",
              "          google.colab.kernel.accessAllowed ? 'block' : 'none';\n",
              "\n",
              "        async function convertToInteractive(key) {\n",
              "          const element = document.querySelector('#df-14848799-01a7-42ad-b180-b0950b900005');\n",
              "          const dataTable =\n",
              "            await google.colab.kernel.invokeFunction('convertToInteractive',\n",
              "                                                     [key], {});\n",
              "          if (!dataTable) return;\n",
              "\n",
              "          const docLinkHtml = 'Like what you see? Visit the ' +\n",
              "            '<a target=\"_blank\" href=https://colab.research.google.com/notebooks/data_table.ipynb>data table notebook</a>'\n",
              "            + ' to learn more about interactive tables.';\n",
              "          element.innerHTML = '';\n",
              "          dataTable['output_type'] = 'display_data';\n",
              "          await google.colab.output.renderOutput(dataTable, element);\n",
              "          const docLink = document.createElement('div');\n",
              "          docLink.innerHTML = docLinkHtml;\n",
              "          element.appendChild(docLink);\n",
              "        }\n",
              "      </script>\n",
              "    </div>\n",
              "  </div>\n",
              "  "
            ]
          },
          "metadata": {},
          "execution_count": 77
        }
      ]
    },
    {
      "cell_type": "code",
      "source": [
        "voter[\"turnout_rate\"].describe() #Checking turnout rates of individual polling booths"
      ],
      "metadata": {
        "colab": {
          "base_uri": "https://localhost:8080/"
        },
        "id": "0bvT_Sk36XEw",
        "outputId": "db9fe4d5-9d6f-4b78-b447-18c78b044765"
      },
      "execution_count": 78,
      "outputs": [
        {
          "output_type": "execute_result",
          "data": {
            "text/plain": [
              "count    6970.000000\n",
              "mean        0.573425\n",
              "std         0.280617\n",
              "min         0.000000\n",
              "25%         0.336596\n",
              "50%         0.476776\n",
              "75%         0.917728\n",
              "max         1.000000\n",
              "Name: turnout_rate, dtype: float64"
            ]
          },
          "metadata": {},
          "execution_count": 78
        }
      ]
    },
    {
      "cell_type": "code",
      "source": [
        "# Max turnout rate = 1.00\n",
        "# Min turnout rate = 0.00"
      ],
      "metadata": {
        "id": "KhN62IqG6XHD"
      },
      "execution_count": 21,
      "outputs": []
    },
    {
      "cell_type": "code",
      "source": [
        "voter[voter[\"turnout_rate\"] == 1.000000].shape #20 booths recorded the max turnout rate"
      ],
      "metadata": {
        "colab": {
          "base_uri": "https://localhost:8080/"
        },
        "id": "FcaMHDd89BPL",
        "outputId": "b7e57f02-fe19-47d5-9cb1-55bef6d5e113"
      },
      "execution_count": 79,
      "outputs": [
        {
          "output_type": "execute_result",
          "data": {
            "text/plain": [
              "(20, 10)"
            ]
          },
          "metadata": {},
          "execution_count": 79
        }
      ]
    },
    {
      "cell_type": "code",
      "source": [
        "voter[voter[\"turnout_rate\"] == 0.0].shape #4 booths recorded the min turnout rate"
      ],
      "metadata": {
        "colab": {
          "base_uri": "https://localhost:8080/"
        },
        "id": "rRZUjiGa9BRl",
        "outputId": "a14b911a-016e-46d8-a0b3-9c55e41fe24c"
      },
      "execution_count": 80,
      "outputs": [
        {
          "output_type": "execute_result",
          "data": {
            "text/plain": [
              "(4, 10)"
            ]
          },
          "metadata": {},
          "execution_count": 80
        }
      ]
    },
    {
      "cell_type": "code",
      "source": [
        "voter.groupby(by='treatment')[\"treatment_phase\"].value_counts() #By treatment, tabulating the number of booths in phases 1 and 2 of the study"
      ],
      "metadata": {
        "colab": {
          "base_uri": "https://localhost:8080/"
        },
        "id": "t0xKsgnO9BTl",
        "outputId": "75f41cab-bd55-4afb-de43-30322f46b36f"
      },
      "execution_count": 82,
      "outputs": [
        {
          "output_type": "execute_result",
          "data": {
            "text/plain": [
              "treatment  treatment_phase\n",
              "0          1                  1755\n",
              "           2                  1749\n",
              "1          1                  1846\n",
              "           2                  1620\n",
              "Name: treatment_phase, dtype: int64"
            ]
          },
          "metadata": {},
          "execution_count": 82
        }
      ]
    },
    {
      "cell_type": "code",
      "source": [
        "(voter.groupby(by='town_id')[\"turnout_rate\"].mean() > 0.75).value_counts() #Not a single district has a total turnout rate of 75% or above"
      ],
      "metadata": {
        "colab": {
          "base_uri": "https://localhost:8080/"
        },
        "id": "F1Q0QwA99BVt",
        "outputId": "5c96bb9f-666a-4375-f2b4-25e845bd0fe4"
      },
      "execution_count": 83,
      "outputs": [
        {
          "output_type": "execute_result",
          "data": {
            "text/plain": [
              "False    27\n",
              "Name: turnout_rate, dtype: int64"
            ]
          },
          "metadata": {},
          "execution_count": 83
        }
      ]
    },
    {
      "cell_type": "code",
      "source": [
        "voter[\"turnout_rate_female\"] = voter['turnout_female']/voter['registered_female']\n",
        "voter.sample()"
      ],
      "metadata": {
        "colab": {
          "base_uri": "https://localhost:8080/",
          "height": 144
        },
        "id": "h4giKWL99BZt",
        "outputId": "de009646-757a-4645-b8ca-9b6ba5e3040f"
      },
      "execution_count": 27,
      "outputs": [
        {
          "output_type": "execute_result",
          "data": {
            "text/plain": [
              "      town_id  turnout_total  turnout_male  turnout_female  registered_total  \\\n",
              "1016      175            606           332             274            1293.0   \n",
              "\n",
              "      registered_male  registered_female  treatment  treatment_phase  \\\n",
              "1016            728.0              565.0          0                1   \n",
              "\n",
              "      turnout_rate  turnout_rate_female  \n",
              "1016      0.468677             0.484956  "
            ],
            "text/html": [
              "\n",
              "  <div id=\"df-6111b704-a60b-4917-9491-5f7e8e3c5f57\">\n",
              "    <div class=\"colab-df-container\">\n",
              "      <div>\n",
              "<style scoped>\n",
              "    .dataframe tbody tr th:only-of-type {\n",
              "        vertical-align: middle;\n",
              "    }\n",
              "\n",
              "    .dataframe tbody tr th {\n",
              "        vertical-align: top;\n",
              "    }\n",
              "\n",
              "    .dataframe thead th {\n",
              "        text-align: right;\n",
              "    }\n",
              "</style>\n",
              "<table border=\"1\" class=\"dataframe\">\n",
              "  <thead>\n",
              "    <tr style=\"text-align: right;\">\n",
              "      <th></th>\n",
              "      <th>town_id</th>\n",
              "      <th>turnout_total</th>\n",
              "      <th>turnout_male</th>\n",
              "      <th>turnout_female</th>\n",
              "      <th>registered_total</th>\n",
              "      <th>registered_male</th>\n",
              "      <th>registered_female</th>\n",
              "      <th>treatment</th>\n",
              "      <th>treatment_phase</th>\n",
              "      <th>turnout_rate</th>\n",
              "      <th>turnout_rate_female</th>\n",
              "    </tr>\n",
              "  </thead>\n",
              "  <tbody>\n",
              "    <tr>\n",
              "      <th>1016</th>\n",
              "      <td>175</td>\n",
              "      <td>606</td>\n",
              "      <td>332</td>\n",
              "      <td>274</td>\n",
              "      <td>1293.0</td>\n",
              "      <td>728.0</td>\n",
              "      <td>565.0</td>\n",
              "      <td>0</td>\n",
              "      <td>1</td>\n",
              "      <td>0.468677</td>\n",
              "      <td>0.484956</td>\n",
              "    </tr>\n",
              "  </tbody>\n",
              "</table>\n",
              "</div>\n",
              "      <button class=\"colab-df-convert\" onclick=\"convertToInteractive('df-6111b704-a60b-4917-9491-5f7e8e3c5f57')\"\n",
              "              title=\"Convert this dataframe to an interactive table.\"\n",
              "              style=\"display:none;\">\n",
              "        \n",
              "  <svg xmlns=\"http://www.w3.org/2000/svg\" height=\"24px\"viewBox=\"0 0 24 24\"\n",
              "       width=\"24px\">\n",
              "    <path d=\"M0 0h24v24H0V0z\" fill=\"none\"/>\n",
              "    <path d=\"M18.56 5.44l.94 2.06.94-2.06 2.06-.94-2.06-.94-.94-2.06-.94 2.06-2.06.94zm-11 1L8.5 8.5l.94-2.06 2.06-.94-2.06-.94L8.5 2.5l-.94 2.06-2.06.94zm10 10l.94 2.06.94-2.06 2.06-.94-2.06-.94-.94-2.06-.94 2.06-2.06.94z\"/><path d=\"M17.41 7.96l-1.37-1.37c-.4-.4-.92-.59-1.43-.59-.52 0-1.04.2-1.43.59L10.3 9.45l-7.72 7.72c-.78.78-.78 2.05 0 2.83L4 21.41c.39.39.9.59 1.41.59.51 0 1.02-.2 1.41-.59l7.78-7.78 2.81-2.81c.8-.78.8-2.07 0-2.86zM5.41 20L4 18.59l7.72-7.72 1.47 1.35L5.41 20z\"/>\n",
              "  </svg>\n",
              "      </button>\n",
              "      \n",
              "  <style>\n",
              "    .colab-df-container {\n",
              "      display:flex;\n",
              "      flex-wrap:wrap;\n",
              "      gap: 12px;\n",
              "    }\n",
              "\n",
              "    .colab-df-convert {\n",
              "      background-color: #E8F0FE;\n",
              "      border: none;\n",
              "      border-radius: 50%;\n",
              "      cursor: pointer;\n",
              "      display: none;\n",
              "      fill: #1967D2;\n",
              "      height: 32px;\n",
              "      padding: 0 0 0 0;\n",
              "      width: 32px;\n",
              "    }\n",
              "\n",
              "    .colab-df-convert:hover {\n",
              "      background-color: #E2EBFA;\n",
              "      box-shadow: 0px 1px 2px rgba(60, 64, 67, 0.3), 0px 1px 3px 1px rgba(60, 64, 67, 0.15);\n",
              "      fill: #174EA6;\n",
              "    }\n",
              "\n",
              "    [theme=dark] .colab-df-convert {\n",
              "      background-color: #3B4455;\n",
              "      fill: #D2E3FC;\n",
              "    }\n",
              "\n",
              "    [theme=dark] .colab-df-convert:hover {\n",
              "      background-color: #434B5C;\n",
              "      box-shadow: 0px 1px 3px 1px rgba(0, 0, 0, 0.15);\n",
              "      filter: drop-shadow(0px 1px 2px rgba(0, 0, 0, 0.3));\n",
              "      fill: #FFFFFF;\n",
              "    }\n",
              "  </style>\n",
              "\n",
              "      <script>\n",
              "        const buttonEl =\n",
              "          document.querySelector('#df-6111b704-a60b-4917-9491-5f7e8e3c5f57 button.colab-df-convert');\n",
              "        buttonEl.style.display =\n",
              "          google.colab.kernel.accessAllowed ? 'block' : 'none';\n",
              "\n",
              "        async function convertToInteractive(key) {\n",
              "          const element = document.querySelector('#df-6111b704-a60b-4917-9491-5f7e8e3c5f57');\n",
              "          const dataTable =\n",
              "            await google.colab.kernel.invokeFunction('convertToInteractive',\n",
              "                                                     [key], {});\n",
              "          if (!dataTable) return;\n",
              "\n",
              "          const docLinkHtml = 'Like what you see? Visit the ' +\n",
              "            '<a target=\"_blank\" href=https://colab.research.google.com/notebooks/data_table.ipynb>data table notebook</a>'\n",
              "            + ' to learn more about interactive tables.';\n",
              "          element.innerHTML = '';\n",
              "          dataTable['output_type'] = 'display_data';\n",
              "          await google.colab.output.renderOutput(dataTable, element);\n",
              "          const docLink = document.createElement('div');\n",
              "          docLink.innerHTML = docLinkHtml;\n",
              "          element.appendChild(docLink);\n",
              "        }\n",
              "      </script>\n",
              "    </div>\n",
              "  </div>\n",
              "  "
            ]
          },
          "metadata": {},
          "execution_count": 27
        }
      ]
    },
    {
      "cell_type": "code",
      "source": [
        "voter.groupby(by='treatment')['turnout_rate_female'].mean()"
      ],
      "metadata": {
        "colab": {
          "base_uri": "https://localhost:8080/"
        },
        "id": "a69lmiv39Bb5",
        "outputId": "178fc457-0482-42fd-d86e-6f5b23122443"
      },
      "execution_count": 28,
      "outputs": [
        {
          "output_type": "execute_result",
          "data": {
            "text/plain": [
              "treatment\n",
              "0    0.568921\n",
              "1    0.582492\n",
              "Name: turnout_rate_female, dtype: float64"
            ]
          },
          "metadata": {},
          "execution_count": 28
        }
      ]
    },
    {
      "cell_type": "code",
      "source": [
        "temp2 = voter.groupby(by='treatment').get_group(0)['turnout_rate_female']\n",
        "temp3 = voter.groupby(by='treatment').get_group(1)['turnout_rate_female']"
      ],
      "metadata": {
        "id": "Zjl0O_0nDjww"
      },
      "execution_count": 29,
      "outputs": []
    },
    {
      "cell_type": "code",
      "source": [
        "# Avg turnout rate for females in treatment booths = 0.568921\n",
        "# Avg turnout rate for males in treatment booths = 0.582492"
      ],
      "metadata": {
        "id": "fus0tfb7CHpB"
      },
      "execution_count": 30,
      "outputs": []
    },
    {
      "cell_type": "code",
      "source": [
        "# Doing t-test to test the null hypothesis\n",
        "# H0 = Female turnout rate in treatment booths is equal to male turnout rate in treatment booths\n",
        "# H1 = Female turnout rate in treatment booths is greater than to male turnout rate in treatment booths"
      ],
      "metadata": {
        "id": "7YNxnCThwuqZ"
      },
      "execution_count": null,
      "outputs": []
    },
    {
      "cell_type": "code",
      "source": [
        "voter.groupby(by='treatment')['turnout_rate_female'].var() #ratio is less than 4:1 so we can perform two sample t-test"
      ],
      "metadata": {
        "colab": {
          "base_uri": "https://localhost:8080/"
        },
        "id": "YSbhRhgfCHra",
        "outputId": "f86cc331-24d6-4f8c-fc46-63099eaef43a"
      },
      "execution_count": 31,
      "outputs": [
        {
          "output_type": "execute_result",
          "data": {
            "text/plain": [
              "treatment\n",
              "0    0.079938\n",
              "1    0.076650\n",
              "Name: turnout_rate_female, dtype: float64"
            ]
          },
          "metadata": {},
          "execution_count": 31
        }
      ]
    },
    {
      "cell_type": "code",
      "source": [
        "t_statistic, p_value = stats.ttest_ind(temp2, temp3, equal_var=True)\n",
        "print(t_statistic)\n",
        "print(p_value)\n",
        "\n",
        "if p_value < 0.05:\n",
        "  print(\"Reject the Null Hypothesis (H0) and Accept the Alternative Hypothesis (H1)\")"
      ],
      "metadata": {
        "colab": {
          "base_uri": "https://localhost:8080/"
        },
        "id": "L3usYPlWCHtw",
        "outputId": "523ebb30-7948-4e53-9236-91072846d12b"
      },
      "execution_count": 84,
      "outputs": [
        {
          "output_type": "stream",
          "name": "stdout",
          "text": [
            "-2.0244201980296084\n",
            "0.042965006765050495\n",
            "Reject the Null Hypothesis (H0) and Accept the Alternative Hypothesis (H1)\n"
          ]
        }
      ]
    }
  ]
}